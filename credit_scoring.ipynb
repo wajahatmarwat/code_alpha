{
  "nbformat": 4,
  "nbformat_minor": 0,
  "metadata": {
    "colab": {
      "provenance": []
    },
    "kernelspec": {
      "name": "python3",
      "display_name": "Python 3"
    },
    "language_info": {
      "name": "python"
    }
  },
  "cells": [
    {
      "cell_type": "code",
      "execution_count": null,
      "metadata": {
        "colab": {
          "base_uri": "https://localhost:8080/"
        },
        "id": "ryDyd2UBh7-p",
        "outputId": "edb8b815-d3ba-4142-db0a-06e03c4f484a"
      },
      "outputs": [
        {
          "output_type": "stream",
          "name": "stdout",
          "text": [
            "  checking_status  duration                  credit_history  \\\n",
            "0              <0         6  critical/other existing credit   \n",
            "1        0<=X<200        48                   existing paid   \n",
            "2     no checking        12  critical/other existing credit   \n",
            "3              <0        42                   existing paid   \n",
            "4              <0        24              delayed previously   \n",
            "\n",
            "               purpose  credit_amount    savings_status employment  \\\n",
            "0             radio/tv           1169  no known savings        >=7   \n",
            "1             radio/tv           5951              <100     1<=X<4   \n",
            "2            education           2096              <100     4<=X<7   \n",
            "3  furniture/equipment           7882              <100     4<=X<7   \n",
            "4              new car           4870              <100     1<=X<4   \n",
            "\n",
            "   installment_commitment     personal_status other_parties  ...  \\\n",
            "0                       4         male single          none  ...   \n",
            "1                       2  female div/dep/mar          none  ...   \n",
            "2                       2         male single          none  ...   \n",
            "3                       2         male single     guarantor  ...   \n",
            "4                       3         male single          none  ...   \n",
            "\n",
            "   property_magnitude age  other_payment_plans   housing existing_credits  \\\n",
            "0         real estate  67                 none       own                2   \n",
            "1         real estate  22                 none       own                1   \n",
            "2         real estate  49                 none       own                1   \n",
            "3      life insurance  45                 none  for free                1   \n",
            "4   no known property  53                 none  for free                2   \n",
            "\n",
            "                  job num_dependents  own_telephone foreign_worker class  \n",
            "0             skilled              1            yes            yes  good  \n",
            "1             skilled              1           none            yes   bad  \n",
            "2  unskilled resident              2           none            yes  good  \n",
            "3             skilled              2           none            yes  good  \n",
            "4             skilled              2           none            yes   bad  \n",
            "\n",
            "[5 rows x 21 columns]\n"
          ]
        }
      ],
      "source": [
        "import pandas as pd\n",
        "import matplotlib.pyplot as plt\n",
        "import seaborn as sns\n",
        "\n",
        "from sklearn.datasets import fetch_openml\n",
        "data = fetch_openml(name='credit-g', version=1, as_frame=True)\n",
        "df = data.frame\n",
        "print(df.head())\n",
        "\n"
      ]
    },
    {
      "cell_type": "code",
      "source": [
        "df.isnull().sum()"
      ],
      "metadata": {
        "colab": {
          "base_uri": "https://localhost:8080/",
          "height": 742
        },
        "id": "xFXalkQnknyo",
        "outputId": "3f9e12e8-2466-4f66-ee47-022c43385ede"
      },
      "execution_count": null,
      "outputs": [
        {
          "output_type": "execute_result",
          "data": {
            "text/plain": [
              "checking_status           0\n",
              "duration                  0\n",
              "credit_history            0\n",
              "purpose                   0\n",
              "credit_amount             0\n",
              "savings_status            0\n",
              "employment                0\n",
              "installment_commitment    0\n",
              "personal_status           0\n",
              "other_parties             0\n",
              "residence_since           0\n",
              "property_magnitude        0\n",
              "age                       0\n",
              "other_payment_plans       0\n",
              "housing                   0\n",
              "existing_credits          0\n",
              "job                       0\n",
              "num_dependents            0\n",
              "own_telephone             0\n",
              "foreign_worker            0\n",
              "class                     0\n",
              "dtype: int64"
            ],
            "text/html": [
              "<div>\n",
              "<style scoped>\n",
              "    .dataframe tbody tr th:only-of-type {\n",
              "        vertical-align: middle;\n",
              "    }\n",
              "\n",
              "    .dataframe tbody tr th {\n",
              "        vertical-align: top;\n",
              "    }\n",
              "\n",
              "    .dataframe thead th {\n",
              "        text-align: right;\n",
              "    }\n",
              "</style>\n",
              "<table border=\"1\" class=\"dataframe\">\n",
              "  <thead>\n",
              "    <tr style=\"text-align: right;\">\n",
              "      <th></th>\n",
              "      <th>0</th>\n",
              "    </tr>\n",
              "  </thead>\n",
              "  <tbody>\n",
              "    <tr>\n",
              "      <th>checking_status</th>\n",
              "      <td>0</td>\n",
              "    </tr>\n",
              "    <tr>\n",
              "      <th>duration</th>\n",
              "      <td>0</td>\n",
              "    </tr>\n",
              "    <tr>\n",
              "      <th>credit_history</th>\n",
              "      <td>0</td>\n",
              "    </tr>\n",
              "    <tr>\n",
              "      <th>purpose</th>\n",
              "      <td>0</td>\n",
              "    </tr>\n",
              "    <tr>\n",
              "      <th>credit_amount</th>\n",
              "      <td>0</td>\n",
              "    </tr>\n",
              "    <tr>\n",
              "      <th>savings_status</th>\n",
              "      <td>0</td>\n",
              "    </tr>\n",
              "    <tr>\n",
              "      <th>employment</th>\n",
              "      <td>0</td>\n",
              "    </tr>\n",
              "    <tr>\n",
              "      <th>installment_commitment</th>\n",
              "      <td>0</td>\n",
              "    </tr>\n",
              "    <tr>\n",
              "      <th>personal_status</th>\n",
              "      <td>0</td>\n",
              "    </tr>\n",
              "    <tr>\n",
              "      <th>other_parties</th>\n",
              "      <td>0</td>\n",
              "    </tr>\n",
              "    <tr>\n",
              "      <th>residence_since</th>\n",
              "      <td>0</td>\n",
              "    </tr>\n",
              "    <tr>\n",
              "      <th>property_magnitude</th>\n",
              "      <td>0</td>\n",
              "    </tr>\n",
              "    <tr>\n",
              "      <th>age</th>\n",
              "      <td>0</td>\n",
              "    </tr>\n",
              "    <tr>\n",
              "      <th>other_payment_plans</th>\n",
              "      <td>0</td>\n",
              "    </tr>\n",
              "    <tr>\n",
              "      <th>housing</th>\n",
              "      <td>0</td>\n",
              "    </tr>\n",
              "    <tr>\n",
              "      <th>existing_credits</th>\n",
              "      <td>0</td>\n",
              "    </tr>\n",
              "    <tr>\n",
              "      <th>job</th>\n",
              "      <td>0</td>\n",
              "    </tr>\n",
              "    <tr>\n",
              "      <th>num_dependents</th>\n",
              "      <td>0</td>\n",
              "    </tr>\n",
              "    <tr>\n",
              "      <th>own_telephone</th>\n",
              "      <td>0</td>\n",
              "    </tr>\n",
              "    <tr>\n",
              "      <th>foreign_worker</th>\n",
              "      <td>0</td>\n",
              "    </tr>\n",
              "    <tr>\n",
              "      <th>class</th>\n",
              "      <td>0</td>\n",
              "    </tr>\n",
              "  </tbody>\n",
              "</table>\n",
              "</div><br><label><b>dtype:</b> int64</label>"
            ]
          },
          "metadata": {},
          "execution_count": 80
        }
      ]
    },
    {
      "cell_type": "code",
      "source": [
        "plt.figure(figsize=(10, 6))\n",
        "sns.countplot(x='class', data=df)\n",
        "plt.title('Class Distribution')\n",
        "plt.show()"
      ],
      "metadata": {
        "colab": {
          "base_uri": "https://localhost:8080/",
          "height": 564
        },
        "id": "vHS0NmkMkvPH",
        "outputId": "a103a780-7024-47e0-be2a-919774fa5903"
      },
      "execution_count": null,
      "outputs": [
        {
          "output_type": "display_data",
          "data": {
            "text/plain": [
              "<Figure size 1000x600 with 1 Axes>"
            ],
            "image/png": "[encoded data removed]"
          },
          "metadata": {}
        }
      ]
    },
    {
      "cell_type": "code",
      "source": [
        "import pandas as pd\n",
        "from sklearn.model_selection import train_test_split\n",
        "from sklearn.preprocessing import LabelEncoder\n",
        "from imblearn.over_sampling import SMOTE\n",
        "\n",
        "# Step 0: Check actual column names\n",
        "print(\"Column names in dataset:\", df.columns)\n",
        "\n",
        "# OPTIONAL: Rename the actual column if it's not 'class'\n",
        "# For example, if it's 'Class' or something else:\n",
        "df.rename(columns=lambda x: x.strip().lower(), inplace=True)  # normalize column names\n",
        "if 'class' not in df.columns:\n",
        "    raise KeyError(\"Target column 'class' not found. Check column names above.\")\n",
        "\n",
        "# Step 1: Drop rows where target is missing\n",
        "df = df.dropna(subset=['class'])\n",
        "\n",
        "# Step 2: Convert labels to numeric\n",
        "df['class'] = df['class'].map({1: 1, 2: 0, 'good': 1, 'bad': 0})\n",
        "\n",
        "# Step 3: Drop unmapped values\n",
        "df = df.dropna(subset=['class'])\n",
        "\n",
        "# Step 4: Features and labels\n",
        "X = df.drop('class', axis=1)\n",
        "y = df['class']\n",
        "\n",
        "# Step 5: One-hot encoding\n",
        "X = pd.get_dummies(X, drop_first=True)\n",
        "\n",
        "# Step 6: Split\n",
        "X_train, X_test, y_train, y_test = train_test_split(\n",
        "    X, y, test_size=0.3, random_state=0\n",
        ")\n",
        "\n",
        "# Step 7: Oversample\n",
        "sm = SMOTE(random_state=0)\n",
        "X_train_resampled, y_train_resampled = sm.fit_resample(X_train, y_train)\n",
        "\n",
        "# Step 8: Check result\n",
        "print(\"Original training size:\", X_train.shape)\n",
        "print(\"Resampled training size:\", X_train_resampled.shape)\n"
      ],
      "metadata": {
        "colab": {
          "base_uri": "https://localhost:8080/"
        },
        "id": "N9afWxUKiwo_",
        "outputId": "47d245b0-7905-4aed-e606-f48c942eef9b"
      },
      "execution_count": null,
      "outputs": [
        {
          "output_type": "stream",
          "name": "stdout",
          "text": [
            "Column names in dataset: Index(['checking_status', 'duration', 'credit_history', 'purpose',\n",
            "       'credit_amount', 'savings_status', 'employment',\n",
            "       'installment_commitment', 'personal_status', 'other_parties',\n",
            "       'residence_since', 'property_magnitude', 'age', 'other_payment_plans',\n",
            "       'housing', 'existing_credits', 'job', 'num_dependents', 'own_telephone',\n",
            "       'foreign_worker', 'class'],\n",
            "      dtype='object')\n",
            "Original training size: (700, 48)\n",
            "Resampled training size: (972, 48)\n"
          ]
        }
      ]
    },
    {
      "cell_type": "code",
      "source": [
        "from sklearn.linear_model import LogisticRegression\n",
        "mlog = LogisticRegression()\n",
        "mlog.fit(X_train_resampled, y_train_resampled)\n",
        "accuracy_score(y_test, mlog.predict(X_test))"
      ],
      "metadata": {
        "colab": {
          "base_uri": "https://localhost:8080/"
        },
        "id": "g-MN7EO_tpzj",
        "outputId": "4521aa44-c964-4277-d1f9-1ee0abd40b27"
      },
      "execution_count": null,
      "outputs": [
        {
          "output_type": "stream",
          "name": "stderr",
          "text": [
            "/usr/local/lib/python3.11/dist-packages/sklearn/linear_model/_logistic.py:465: ConvergenceWarning: lbfgs failed to converge (status=1):\n",
            "STOP: TOTAL NO. OF ITERATIONS REACHED LIMIT.\n",
            "\n",
            "Increase the number of iterations (max_iter) or scale the data as shown in:\n",
            "    https://scikit-learn.org/stable/modules/preprocessing.html\n",
            "Please also refer to the documentation for alternative solver options:\n",
            "    https://scikit-learn.org/stable/modules/linear_model.html#logistic-regression\n",
            "  n_iter_i = _check_optimize_result(\n"
          ]
        },
        {
          "output_type": "execute_result",
          "data": {
            "text/plain": [
              "0.7366666666666667"
            ]
          },
          "metadata": {},
          "execution_count": 83
        }
      ]
    }
  ]
}